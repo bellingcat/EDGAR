{
 "cells": [
  {
   "cell_type": "markdown",
   "metadata": {
    "id": "iCBS4YMpURiq"
   },
   "source": [
    "# Bellingcat EDGAR Search Tool 🔎🏦\n",
    "\n",
    "<a href=\"https://www.bellingcat.com\"><img alt=\"Bellingcat logo: Discover Bellingcat\" src=\"https://img.shields.io/badge/Discover%20Bellingcat-%20?style=for-the-badge&logo=data%3Aimage%2Fpng%3Bbase64%2CiVBORw0KGgoAAAANSUhEUgAAAA4AAAAYCAYAAADKx8xXAAABhGlDQ1BJQ0MgcHJvZmlsZQAAKJF9kT1Iw0AcxV9TS0UqDnZQEcxQneyiIo6likWwUNoKrTqYXPoFTRqSFBdHwbXg4Mdi1cHFWVcHV0EQ%2FABxdnBSdJES%2F5cUWsR4cNyPd%2Fced%2B8AoVllqtkTA1TNMtKJuJjLr4rBVwQwhhBEDEvM1JOZxSw8x9c9fHy9i%2FIs73N%2Fjn6lYDLAJxLHmG5YxBvEs5uWznmfOMzKkkJ8Tjxp0AWJH7kuu%2FzGueSwwDPDRjY9TxwmFktdLHcxKxsq8QxxRFE1yhdyLiuctzir1Tpr35O%2FMFTQVjJcpzmKBJaQRIo6klFHBVVYiNKqkWIiTftxD%2F%2BI40%2BRSyZXBYwcC6hBheT4wf%2Fgd7dmcXrKTQrFgcCLbX%2BMA8FdoNWw7e9j226dAP5n4Err%2BGtNYO6T9EZHixwBA9vAxXVHk%2FeAyx1g6EmXDMmR%2FDSFYhF4P6NvygODt0Dfmttbex%2BnD0CWulq%2BAQ4OgYkSZa97vLu3u7d%2Fz7T7%2BwHEU3LHAa%2FQ6gAAAAZiS0dEAAAAAAAA%2BUO7fwAAAAlwSFlzAAAuIwAALiMBeKU%2FdgAAAAd0SU1FB%2BgFHwwiMH4odB4AAAAZdEVYdENvbW1lbnQAQ3JlYXRlZCB3aXRoIEdJTVBXgQ4XAAAA50lEQVQ4y82SvWpCQRCFz25ERSJiCNqlUiS1b5AuEEiZIq1NOsGXCKms0wXSp9T6dskDiFikyiPc%2FrMZyf3FXSGQ0%2BzuzPl2ZoeVKgQ0gQ2wBVpVHlcDkjM5V%2FJ5nag6sJ%2FZX%2Bh%2FC7gEhqeAFKf7p1M9aB3b5oN1OomB7g1axUBPBr3GQHODHmOgqUF3MZAzKI2d4LWBV4H%2BMXDuJd1a7Cew1k7SwksaHC4LqNaw7aeX9GWHXkC1G1sTAS17Y3Kk2lnp4wNLiz0DrgLq8qt2MfmSSabAO%2FBBXp26dtrADPjOmN%2BAUdG7B3cE61l5hOZiAAAAAElFTkSuQmCC&logoColor=%23fff&color=%23000\"></a><!--\n",
    "--><a href=\"https://discord.gg/bellingcat\"><img alt=\"Discord logo: Join our community\" src=\"https://img.shields.io/badge/Join%20our%20community-%20?style=for-the-badge&logo=discord&logoColor=%23fff&color=%235865F2\"></a><!--\n",
    "--><a href=\"https://github.com/bellingcat/EDGAR\"><img alt=\"Github logo: Explore the code\" src=\"https://img.shields.io/badge/Explore%20the%20code-%20?style=for-the-badge&logo=github&color=%2329903b\"></a>\n",
    "\n",
    "A tool to search the US Securities and Exchange Commission EDGAR database of corporate filings and download the results as a spreadsheet.\n",
    "\n",
    "The corporate filings held within the EDGAR database contain a wealth of quantitative and qualitative information on every legal entity that issues non-exempt securities in the United States.\n",
    "\n",
    "This search tool was initially developed as part of the Bellingcat Tech Fellowship program, we hope it helps you utilise this incredible, free resource.\n",
    "\n",
    "> <font color='#ffc107'>⚠️Warning:</font> Using both `search_keywords` and only `company_cik` at the same time might not work correctly, we recommend avoiding using both in a search (you can leave `search_keywords` blank and only specify `company_cik`)"
   ]
  },
  {
   "cell_type": "code",
   "execution_count": null,
   "metadata": {},
   "outputs": [],
   "source": [
    "%pip install edgar_tool"
   ]
  },
  {
   "cell_type": "code",
   "execution_count": null,
   "metadata": {
    "id": "g8OW2QMw9qll"
   },
   "outputs": [],
   "source": [
    "# @title Search EDGAR { display-mode: \"form\" }\n",
    "\n",
    "# @markdown ### ⬅️ Click to search the EDGAR filings with the below parameters\n",
    "\n",
    "text = \"Ford Motor Company\"  # @param {type:\"string\"}\n",
    "start_date = \"2024-12-01\"  # @param {type:\"date\"}\n",
    "end_date = \"2024-12-31\"  # @param {type:\"date\"}\n",
    "filing_category = \"all\"  # @param [\"all\", \"all_except_section_16\", \"all_annual_quarterly_and_current_reports\", \"all_section_16\", \"beneficial_ownership_reports\", \"exempt_offerings\", \"registration_statements\", \"filing_review_correspondence\", \"sec_orders_and_notices\", \"proxy_materials\", \"tender_offers_and_going_private_tx\", \"trust_indentures\"]\n",
    "\n",
    "# @markdown Optional: Company name, ticker, CIK number, or individual's name\n",
    "entity_id = \"\"  # @param {type:\"string\"}\n",
    "\n",
    "# @markdown Optional: Filter entities by incorporated or principal office location\n",
    "filter_by_location = \"\"  # @param [\"\",\"Incorporated in\", \"Principal executive offices in\"]\n",
    "\n",
    "# @markdown Optional: The location could be a US state or territory, a Canadian province, or a country. All US states and Canadian provinces use 2-letter ISO 3166 codes, and all countries use ISO 3166 3-letter codes. This value is ignored if `filter_by_location` is unset.\n",
    "location = \"\"  # @param [\"\", \"AL\", \"AK\", \"AZ\", \"AR\", \"CA\", \"CO\", \"CT\", \"DE\", \"DC\", \"FL\", \"GA\", \"HI\", \"ID\", \"IL\", \"IN\", \"IA\", \"KS\", \"KY\", \"LA\", \"ME\", \"MD\", \"MA\", \"MI\", \"MN\", \"MS\", \"MO\", \"MT\", \"NE\", \"NV\", \"NH\", \"NJ\", \"NM\", \"NY\", \"NC\", \"ND\", \"OH\", \"OK\", \"OR\", \"PA\", \"RI\", \"SC\", \"SD\", \"TN\", \"TX\", \"UT\", \"VT\", \"VA\", \"WA\", \"WV\", \"WI\", \"WY\", \"AB\", \"BC\", \"CAN\", \"MB\", \"NB\", \"NL\", \"NS\", \"ON\", \"PE\", \"QC\", \"SK\", \"YT\", \"AFG\", \"ALA\", \"ALB\", \"DZA\", \"ASM\", \"AND\", \"AGO\", \"AIA\", \"ATA\", \"ATG\", \"ARG\", \"ARM\", \"ABW\", \"AUS\", \"AUT\", \"AZE\", \"BHS\", \"BHR\", \"BGD\", \"BRB\", \"BLR\", \"BEL\", \"BLZ\", \"BEN\", \"BMU\", \"BTN\", \"BOL\", \"BIH\", \"BWA\", \"BVT\", \"BRA\", \"IOT\", \"BRN\", \"BGR\", \"BFA\", \"BDI\", \"KHM\", \"CMR\", \"CPV\", \"CYM\", \"CAF\", \"TCD\", \"CHL\", \"CHN\", \"CXR\", \"CCK\", \"COL\", \"COM\", \"COG\", \"COD\", \"COK\", \"CRI\", \"CIV\", \"HRV\", \"CUB\", \"CYP\", \"CZE\", \"DNK\", \"DJI\", \"DMA\", \"DOM\", \"ECU\", \"EGY\", \"SLV\", \"GNQ\", \"ERI\", \"EST\", \"ETH\", \"FLK\", \"FRO\", \"FJI\", \"FIN\", \"FRA\", \"GUF\", \"PYF\", \"ATF\", \"GAB\", \"GMB\", \"GEO\", \"DEU\", \"GHA\", \"GIB\", \"GRC\", \"GRL\", \"GRD\", \"GLP\", \"GUM\", \"GTM\", \"GGY\", \"GIN\", \"GNB\", \"GUY\", \"HTI\", \"HMD\", \"VAT\", \"HND\", \"HKG\", \"HUN\", \"ISL\", \"IND\", \"IDN\", \"IRN\", \"IRQ\", \"IRL\", \"IMN\", \"ISR\", \"ITA\", \"JAM\", \"JPN\", \"JEY\", \"JOR\", \"KAZ\", \"KEN\", \"KIR\", \"PRK\", \"KOR\", \"KWT\", \"KGZ\", \"LAO\", \"LVA\", \"LBN\", \"LSO\", \"LBR\", \"LBY\", \"LIE\", \"LTU\", \"LUX\", \"MAC\", \"MKD\", \"MDG\", \"MWI\", \"MYS\", \"MDV\", \"MLI\", \"MLT\", \"MHL\", \"MTQ\", \"MRT\", \"MUS\", \"MYT\", \"MEX\", \"FSM\", \"MDA\", \"MCO\", \"MNG\", \"MNE\", \"MSR\", \"MAR\", \"MOZ\", \"MMR\", \"NAM\", \"NRU\", \"NPL\", \"NLD\", \"ANT\", \"NCL\", \"NZL\", \"NIC\", \"NER\", \"NGA\", \"NIU\", \"NFK\", \"MNP\", \"NOR\", \"OMN\", \"PAK\", \"PLW\", \"PSE\", \"PAN\", \"PNG\", \"PRY\", \"PER\", \"PHL\", \"PCN\", \"POL\", \"PRT\", \"PRI\", \"QAT\", \"REU\", \"ROU\", \"RUS\", \"RWA\", \"BLM\", \"SHN\", \"KNA\", \"LCA\", \"MAF\", \"SPM\", \"VCT\", \"WSM\", \"SMR\", \"STP\", \"SAU\", \"SEN\", \"SRB\", \"SYC\", \"SLE\", \"SGP\", \"SVK\", \"SVN\", \"SLB\", \"SOM\", \"ZAF\", \"SGS\", \"ESP\", \"LKA\", \"SDN\", \"SUR\", \"SJM\", \"SWZ\", \"SWE\", \"CHE\", \"SYR\", \"TWN\", \"TJK\", \"THA\", \"TLS\", \"TGO\", \"TKL\", \"TON\", \"TTO\", \"TUN\", \"TUR\", \"TKM\", \"TCA\", \"TUV\", \"UGA\", \"UKR\", \"ARE\", \"GBR\", \"UMI\", \"URY\", \"UZB\", \"VUT\", \"VEN\", \"VNM\", \"VGB\", \"VIR\", \"WLF\", \"ESH\", \"YEM\", \"ZMB\", \"ZWE\", \"XX\"]\n",
    "\n",
    "\n",
    "\n",
    "if filter_by_location == \"Incorporated in\":\n",
    "    inc_in = location\n",
    "    peo_in = None\n",
    "elif filter_by_location == \"Principal executive offices in\":\n",
    "    peo_in = location\n",
    "    inc_in = None\n",
    "else:\n",
    "    inc_in = None\n",
    "    peo_in = None\n",
    "\n",
    "# Load Python dependencies\n",
    "from contextlib import redirect_stdout\n",
    "from datetime import datetime\n",
    "\n",
    "from edgar_tool.search_params import SearchParams\n",
    "from edgar_tool.text_search import search\n",
    "from google.colab import data_table, files\n",
    "from IPython.display import display\n",
    "from ipywidgets import widgets\n",
    "import pandas as pd\n",
    "\n",
    "data_table.enable_dataframe_formatter()\n",
    "\n",
    "# Create the output files\n",
    "output = f\"edgar_search_results_{datetime.now().strftime('%d%m%Y_%H%M%S')}.csv\"\n",
    "logfile = f\"./edgar_log_{datetime.now().strftime('%d%m%Y_%H%M%S')}.log\"\n",
    "\n",
    "# Enable Widgets\n",
    "!jupyter nbextension enable --py widgetsnbextension >> {logfile} 2>&1\n",
    "\n",
    "# Run the search\n",
    "print(\"Searching EDGAR...\")\n",
    "\n",
    "search_params = SearchParams(\n",
    "    keywords=[text],\n",
    "    entity=entity_id if entity_id else None,\n",
    "    filing_category=filing_category,\n",
    "    start_date=start_date,\n",
    "    end_date=end_date,\n",
    "    peo_in=peo_in,\n",
    "    inc_in=inc_in,\n",
    ")\n",
    "results = 0\n",
    "with open(logfile, 'w') as f:\n",
    "    with redirect_stdout(f):\n",
    "        results = search(search_params=search_params, output=output)\n",
    "\n",
    "print(f\"Finished! Your search yielded {len(results)} results.\")\n",
    "\n",
    "results = pd.read_csv(output)\n",
    "\n",
    "btn = widgets.Button(description=\"Download Results\")\n",
    "btn.on_click(lambda x: files.download(output))\n",
    "display(btn)\n",
    "\n",
    "# Display the results in a data table\n",
    "display(results)"
   ]
  }
 ],
 "metadata": {
  "colab": {
   "provenance": []
  },
  "kernelspec": {
   "display_name": "edgar-tool-CJrnn_JG-py3.13",
   "language": "python",
   "name": "python3"
  },
  "language_info": {
   "codemirror_mode": {
    "name": "ipython",
    "version": 3
   },
   "file_extension": ".py",
   "mimetype": "text/x-python",
   "name": "python",
   "nbconvert_exporter": "python",
   "pygments_lexer": "ipython3",
   "version": "3.13.3"
  }
 },
 "nbformat": 4,
 "nbformat_minor": 0
}
